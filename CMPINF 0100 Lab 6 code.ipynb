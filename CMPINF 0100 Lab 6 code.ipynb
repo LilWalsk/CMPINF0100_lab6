{
 "cells": [
  {
   "cell_type": "markdown",
   "metadata": {},
   "source": [
    "## This is the code that will be used for Lab6 and 7"
   ]
  },
  {
   "cell_type": "code",
   "execution_count": null,
   "metadata": {},
   "outputs": [],
   "source": [
    "birthday_month = int(input(\"What month were you born (enter as an integer): \"))\n",
    "birthday_day = int(input(\"What day were you born (enter as an integer): \"))\n",
    "birthday_year = int(input(\"What year were you born (enter as an integer): \"))\n",
    "today_day = 11\n",
    "today_month = 10\n",
    "\n",
    "if today_day == birthday_day and today_month == birthday_month:\n",
    "    print(\"Happy Birthday! Today you turn\", (2023 - birthday_year), \"years old.\")\n",
    "elif birthday_month > 10:\n",
    "    print(\"You are\", (2023 - birthday_year -1), \"years old.\")\n",
    "elif birthday_month < 10:\n",
    "    print(\"You are\", (2023 - birthday_year), \"years old.\")\n",
    "elif birthday_day < 11:\n",
    "    print(\"You are\", (2023 - birthday_year ), \"years old.\")\n",
    "elif birthday_day > 11:\n",
    "    print(\"You are\", (2023 - birthday_year - 1), \"years old.\")\n",
    "\n",
    "\n",
    "\n"
   ]
  },
  {
   "cell_type": "code",
   "execution_count": null,
   "metadata": {},
   "outputs": [],
   "source": []
  }
 ],
 "metadata": {
  "kernelspec": {
   "display_name": "Python 3",
   "language": "python",
   "name": "python3"
  },
  "language_info": {
   "codemirror_mode": {
    "name": "ipython",
    "version": 3
   },
   "file_extension": ".py",
   "mimetype": "text/x-python",
   "name": "python",
   "nbconvert_exporter": "python",
   "pygments_lexer": "ipython3",
   "version": "3.8.3"
  }
 },
 "nbformat": 4,
 "nbformat_minor": 4
}
